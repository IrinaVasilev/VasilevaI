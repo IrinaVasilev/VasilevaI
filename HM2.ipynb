{
 "cells": [
  {
   "cell_type": "code",
   "execution_count": null,
   "id": "26a535e4-49f1-4ab6-9df1-c2c3e8a259e5",
   "metadata": {},
   "outputs": [],
   "source": [
    "# Ищем в словаре ключи из листа. Прибавляем 1 если ключ есть, если ключа нет ставим 0\n",
    "\n",
    "def freq(ll, dictw)->dict():\n",
    "    for  wrd in ll:\n",
    "        dictw[wrd]=dictw.get(wrd,0)+1\n",
    "    return dictw "
   ]
  },
  {
   "cell_type": "code",
   "execution_count": 81,
   "id": "091d477b-a20a-4608-a372-a1aecd2dfb80",
   "metadata": {},
   "outputs": [],
   "source": [
    "# Из строк листы\n",
    "\n",
    "ll1=\"мама мыл пол и стул\"\n",
    "ll2=\"папа мыл стол стул\"\n",
    "ll3=\"ваня мыл руки встал на стул\"\n",
    "q4 =\"кто мыл пол?\" \n",
    "\n",
    "ll1=ll1.split()\n",
    "ll2=ll2.split()\n",
    "ll3=ll3.split()"
   ]
  },
  {
   "cell_type": "code",
   "execution_count": 115,
   "id": "f387fcae-5002-4aec-b470-32dff3d2794f",
   "metadata": {},
   "outputs": [],
   "source": [
    "# Делаем словарь со всеми листами, где ключи - слова, значения - 0\n",
    "\n",
    "dictw = {key:value for key, value in zip(ll1+ll2+ll3,[0]* len(ll1+ll2+ll3))}"
   ]
  },
  {
   "cell_type": "code",
   "execution_count": 116,
   "id": "8508dc83-a827-4776-a5ac-8f79fc666a41",
   "metadata": {},
   "outputs": [],
   "source": [
    "# Делаем словари для каждого листа, где ключи - все слова, значения - кол-во повторений слов в листе\n",
    "\n",
    "xx1=freq(ll1,dictw)\n",
    "dictw = {key:value for key, value in zip(ll1+ll2+ll3,[0]* len(ll1+ll2+ll3))}\n",
    "xx2=freq(ll2,dictw)\n",
    "dictw = {key:value for key, value in zip(ll1+ll2+ll3,[0]* len(ll1+ll2+ll3))}\n",
    "xx3=freq(ll3,dictw)"
   ]
  },
  {
   "cell_type": "code",
   "execution_count": 117,
   "id": "e670570a-230a-4a87-9118-479c8aebb8cf",
   "metadata": {},
   "outputs": [
    {
     "name": "stdout",
     "output_type": "stream",
     "text": [
      "{'мама': 1, 'мыл': 1, 'пол': 1, 'и': 1, 'стул': 1, 'папа': 0, 'стол': 0, 'ваня': 0, 'руки': 0, 'встал': 0, 'на': 0}\n",
      "{'мама': 0, 'мыл': 1, 'пол': 0, 'и': 0, 'стул': 1, 'папа': 1, 'стол': 1, 'ваня': 0, 'руки': 0, 'встал': 0, 'на': 0}\n",
      "{'мама': 0, 'мыл': 1, 'пол': 0, 'и': 0, 'стул': 1, 'папа': 0, 'стол': 0, 'ваня': 1, 'руки': 1, 'встал': 1, 'на': 1}\n"
     ]
    }
   ],
   "source": [
    "print(xx1)\n",
    "print(xx2)\n",
    "print(xx3)"
   ]
  },
  {
   "cell_type": "code",
   "execution_count": 118,
   "id": "8bccb17d-b1d6-450b-8ab0-a1bf472446f1",
   "metadata": {},
   "outputs": [],
   "source": [
    "# Делаем листы из значений словаря\n",
    "\n",
    "xx1_1 = list(xx1.values())\n",
    "xx2_2 = list(xx2.values()) \n",
    "xx3_3 = list(xx3.values())"
   ]
  },
  {
   "cell_type": "code",
   "execution_count": 119,
   "id": "62fc69c1-41e7-4acc-865a-490d739ab65a",
   "metadata": {},
   "outputs": [
    {
     "name": "stdout",
     "output_type": "stream",
     "text": [
      "5\n",
      "7\n",
      "6\n"
     ]
    }
   ],
   "source": [
    "s1_2, s1_3, s2_3 = 0,0,0\n",
    "\n",
    "for i in range(len(xx1_1)):\n",
    "    s1_2 += abs(xx1_1[i]-xx2_2[i])\n",
    "for i in range(len(xx1_1)):\n",
    "    s1_3 += abs(xx1_1[i]-xx3_3[i])\n",
    "for i in range(len(xx1_1)):\n",
    "    s2_3 += abs(xx2_2[i]-xx3_3[i])"
   ]
  },
  {
   "cell_type": "code",
   "execution_count": 164,
   "id": "4fef39d3-5ae9-4566-9ee8-1c568aaa0d49",
   "metadata": {},
   "outputs": [],
   "source": [
    "ll1=\"мама мыл пол и стул\"\n",
    "ll2=\"папа мыл стол стул\"\n",
    "ll3=\"ваня мыл руки встал на стул\"\n",
    "q4 =\"кто мыл пол?\" \n",
    "q4 = q4.replace(\"?\",\"\")"
   ]
  },
  {
   "cell_type": "code",
   "execution_count": 165,
   "id": "b450a346-c097-4ea8-87e8-2500cb1fe017",
   "metadata": {},
   "outputs": [],
   "source": [
    "ll11 = ll1.split()\n",
    "ll22 = ll2.split()\n",
    "ll33 = ll3.split()\n",
    "q44 = q4.split()      "
   ]
  },
  {
   "cell_type": "code",
   "execution_count": 166,
   "id": "21328333-b167-4d45-89f2-fd4fef8a61f2",
   "metadata": {},
   "outputs": [],
   "source": [
    "def count(q,ll,c = 0)->int:\n",
    "    for i in range(len(q)):\n",
    "        if q[i] in ll:\n",
    "            c = c+1\n",
    "    return c"
   ]
  },
  {
   "cell_type": "code",
   "execution_count": 169,
   "id": "8da16f90-7039-465b-bedf-d873106452c2",
   "metadata": {},
   "outputs": [
    {
     "name": "stdout",
     "output_type": "stream",
     "text": [
      "кто мыл пол?\n",
      "Ответ:  мама\n"
     ]
    }
   ],
   "source": [
    "print(\"кто мыл пол?\")\n",
    "if count(q44,ll11) > count(q44,ll22) and count(q44,ll11) > count(q44,ll33):\n",
    "    print(\"Ответ: \", ll11[0])\n",
    "elif count(q44,ll22) > count(q44,ll11) and count(q44,ll22) > count(q44,ll33):\n",
    "    print(\"Ответ: \", ll22[0])\n",
    "elif count(q44,ll33) > count(q44,ll11) and count(q44,ll33) > count(q44,ll22):\n",
    "    print(\"Ответ: \", ll33[0])"
   ]
  }
 ],
 "metadata": {
  "kernelspec": {
   "display_name": "Python 3 (ipykernel)",
   "language": "python",
   "name": "python3"
  },
  "language_info": {
   "codemirror_mode": {
    "name": "ipython",
    "version": 3
   },
   "file_extension": ".py",
   "mimetype": "text/x-python",
   "name": "python",
   "nbconvert_exporter": "python",
   "pygments_lexer": "ipython3",
   "version": "3.9.12"
  }
 },
 "nbformat": 4,
 "nbformat_minor": 5
}
